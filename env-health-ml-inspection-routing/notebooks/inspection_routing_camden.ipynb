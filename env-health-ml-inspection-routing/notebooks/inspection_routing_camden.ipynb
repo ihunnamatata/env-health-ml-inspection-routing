{
 "cells": [
  {
   "cell_type": "markdown",
   "id": "5e1e17e7",
   "metadata": {},
   "source": [
    "# Environmental Health ML – Camden County Inspection Routing\n",
    "This notebook analyzes synthetic restaurant inspection data in Camden County, NJ. It scores risk based on past violations and visualizes geographic patterns using clustering and risk thresholds."
   ]
  },
  {
   "cell_type": "markdown",
   "id": "b0ed03c1",
   "metadata": {},
   "source": [
    "## Step 1: Import Libraries"
   ]
  },
  {
   "cell_type": "code",
   "execution_count": null,
   "id": "3e328d9c",
   "metadata": {},
   "outputs": [],
   "source": [
    "import pandas as pd\n",
    "import numpy as np\n",
    "import matplotlib.pyplot as plt\n",
    "import seaborn as sns\n",
    "from sklearn.cluster import KMeans\n",
    "import folium\n",
    "from folium.plugins import MarkerCluster\n",
    "sns.set(style='whitegrid')"
   ]
  },
  {
   "cell_type": "markdown",
   "id": "82e8c656",
   "metadata": {},
   "source": [
    "## Step 2: Load the Inspection Dataset"
   ]
  },
  {
   "cell_type": "code",
   "execution_count": null,
   "id": "db42f31c",
   "metadata": {},
   "outputs": [],
   "source": [
    "df = pd.read_csv('../data/camden_inspection_risk_data.csv')\n",
    "df['LastInspectionDate'] = pd.to_datetime(df['LastInspectionDate'])\n",
    "df.head()"
   ]
  },
  {
   "cell_type": "markdown",
   "id": "8fdd479d",
   "metadata": {},
   "source": [
    "## Step 3: Label High Risk Establishments"
   ]
  },
  {
   "cell_type": "code",
   "execution_count": null,
   "id": "ba706b6d",
   "metadata": {},
   "outputs": [],
   "source": [
    "df['RiskLevel'] = pd.cut(df['RiskScore'], bins=[0, 0.4, 0.7, 1.0], labels=['Low', 'Medium', 'High'])\n",
    "df['HighRisk'] = df['RiskScore'] > 0.7\n",
    "df['RiskLevel'].value_counts()"
   ]
  },
  {
   "cell_type": "markdown",
   "id": "9f22a4f3",
   "metadata": {},
   "source": [
    "## Step 4: Map of High Risk Establishments in Camden County"
   ]
  },
  {
   "cell_type": "code",
   "execution_count": null,
   "id": "63caab8e",
   "metadata": {},
   "outputs": [],
   "source": [
    "m = folium.Map(location=[39.9, -75.05], zoom_start=11)\n",
    "marker_cluster = MarkerCluster().add_to(m)\n",
    "\n",
    "for _, row in df[df['HighRisk']].iterrows():\n",
    "    folium.Marker(\n",
    "        location=[row['Latitude'], row['Longitude']],\n",
    "        popup=f\"\"\"<b>{row['RestaurantID']}</b><br>\n",
    "        {row['Category']}<br>\n",
    "        City: {row['City']}<br>\n",
    "        Violations: {row['PastViolations']}<br>\n",
    "        Risk Score: {row['RiskScore']}\"\"\",\n",
    "        icon=folium.Icon(color='red', icon='exclamation-triangle', prefix='fa')\n",
    "    ).add_to(marker_cluster)\n",
    "\n",
    "m.save('../output/camden_high_risk_map.html')\n",
    "m"
   ]
  },
  {
   "cell_type": "markdown",
   "id": "46b4a26b",
   "metadata": {},
   "source": [
    "## Step 5: Spatial Clustering of Inspections (KMeans)"
   ]
  },
  {
   "cell_type": "code",
   "execution_count": null,
   "id": "4b461832",
   "metadata": {},
   "outputs": [],
   "source": [
    "coords = df[['Latitude', 'Longitude']]\n",
    "kmeans = KMeans(n_clusters=5, random_state=42).fit(coords)\n",
    "df['Cluster'] = kmeans.labels_\n",
    "\n",
    "plt.figure(figsize=(8, 6))\n",
    "sns.scatterplot(data=df, x='Longitude', y='Latitude', hue='Cluster', palette='Set2')\n",
    "plt.title('KMeans Clustering of Inspections')\n",
    "plt.xlabel('Longitude')\n",
    "plt.ylabel('Latitude')\n",
    "plt.grid(True)\n",
    "plt.tight_layout()\n",
    "plt.show()"
   ]
  }
 ],
 "metadata": {},
 "nbformat": 4,
 "nbformat_minor": 5
}
